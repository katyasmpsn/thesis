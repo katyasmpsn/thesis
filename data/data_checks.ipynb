{
 "cells": [
  {
   "cell_type": "code",
   "execution_count": 3,
   "metadata": {},
   "outputs": [],
   "source": [
    "import pandas as pd"
   ]
  },
  {
   "cell_type": "code",
   "execution_count": null,
   "outputs": [],
   "source": [
    "df = pd.read_csv(\"../results/cleaned_data.csv\")"
   ],
   "metadata": {
    "collapsed": false,
    "pycharm": {
     "name": "#%%\n"
    }
   }
  },
  {
   "cell_type": "code",
   "execution_count": null,
   "outputs": [],
   "source": [
    "df.head()"
   ],
   "metadata": {
    "collapsed": false,
    "pycharm": {
     "name": "#%%\n"
    }
   }
  },
  {
   "cell_type": "code",
   "execution_count": null,
   "outputs": [],
   "source": [],
   "metadata": {
    "collapsed": false,
    "pycharm": {
     "name": "#%%\n"
    }
   }
  },
  {
   "cell_type": "code",
   "execution_count": 7,
   "metadata": {},
   "outputs": [],
   "source": []
  },
  {
   "cell_type": "code",
   "execution_count": 8,
   "metadata": {},
   "outputs": [
    {
     "data": {
      "text/html": [
       "<div>\n",
       "<style scoped>\n",
       "    .dataframe tbody tr th:only-of-type {\n",
       "        vertical-align: middle;\n",
       "    }\n",
       "\n",
       "    .dataframe tbody tr th {\n",
       "        vertical-align: top;\n",
       "    }\n",
       "\n",
       "    .dataframe thead th {\n",
       "        text-align: right;\n",
       "    }\n",
       "</style>\n",
       "<table border=\"1\" class=\"dataframe\">\n",
       "  <thead>\n",
       "    <tr style=\"text-align: right;\">\n",
       "      <th></th>\n",
       "      <th>Unnamed: 0</th>\n",
       "      <th>noteId</th>\n",
       "      <th>tweetId</th>\n",
       "      <th>noteClassification</th>\n",
       "      <th>noteText</th>\n",
       "      <th>tweetText</th>\n",
       "      <th>tweetURL</th>\n",
       "      <th>noteTextList</th>\n",
       "      <th>tweetTextList</th>\n",
       "    </tr>\n",
       "  </thead>\n",
       "  <tbody>\n",
       "    <tr>\n",
       "      <th>0</th>\n",
       "      <td>1</td>\n",
       "      <td>1355716996760023041</td>\n",
       "      <td>1355643797280083973</td>\n",
       "      <td>MISINFORMED_OR_POTENTIALLY_MISLEADING</td>\n",
       "      <td>blm as an organization is not a terrorist orga...</td>\n",
       "      <td>black lives matter is a racist domestic terror...</td>\n",
       "      <td>https://twitter.com/rjnln02/status/13556437972...</td>\n",
       "      <td>['blm', 'as', 'an', 'organization', 'is', 'not...</td>\n",
       "      <td>['black', 'lives', 'matter', 'is', 'a', 'racis...</td>\n",
       "    </tr>\n",
       "    <tr>\n",
       "      <th>1</th>\n",
       "      <td>2</td>\n",
       "      <td>1355989178622816256</td>\n",
       "      <td>1355529775197130753</td>\n",
       "      <td>MISINFORMED_OR_POTENTIALLY_MISLEADING</td>\n",
       "      <td>this post claims blm as an organization does n...</td>\n",
       "      <td>to remind u what blm did disqualify rt movemen...</td>\n",
       "      <td>https://twitter.com/luscsmoothie/status/135552...</td>\n",
       "      <td>['this', 'post', 'claims', 'blm', 'as', 'an', ...</td>\n",
       "      <td>['to', 'remind', 'u', 'what', 'blm', 'did', 'd...</td>\n",
       "    </tr>\n",
       "    <tr>\n",
       "      <th>2</th>\n",
       "      <td>3</td>\n",
       "      <td>1356735932087611399</td>\n",
       "      <td>1352754599590035459</td>\n",
       "      <td>MISINFORMED_OR_POTENTIALLY_MISLEADING</td>\n",
       "      <td>this claim is false carter ford and nixon also...</td>\n",
       "      <td>donald trump is the first president in modern ...</td>\n",
       "      <td>https://twitter.com/DonaldJTrumpJr/status/1352...</td>\n",
       "      <td>['this', 'claim', 'is', 'false', 'carter', 'fo...</td>\n",
       "      <td>['donald', 'trump', 'is', 'the', 'first', 'pre...</td>\n",
       "    </tr>\n",
       "    <tr>\n",
       "      <th>3</th>\n",
       "      <td>4</td>\n",
       "      <td>1356747779113177095</td>\n",
       "      <td>1356441140959064064</td>\n",
       "      <td>MISINFORMED_OR_POTENTIALLY_MISLEADING</td>\n",
       "      <td>neither blm nor antifa were involved in the at...</td>\n",
       "      <td>go get those antifa bastards and the random an...</td>\n",
       "      <td>https://twitter.com/FionaRamshackle/status/135...</td>\n",
       "      <td>['neither', 'blm', 'nor', 'antifa', 'were', 'i...</td>\n",
       "      <td>['go', 'get', 'those', 'antifa', 'bastards', '...</td>\n",
       "    </tr>\n",
       "    <tr>\n",
       "      <th>4</th>\n",
       "      <td>5</td>\n",
       "      <td>1362165022634504193</td>\n",
       "      <td>1361810447431827459</td>\n",
       "      <td>MISINFORMED_OR_POTENTIALLY_MISLEADING</td>\n",
       "      <td>lost wind power was expected to be a fraction ...</td>\n",
       "      <td>this raises the obvious question can we ever r...</td>\n",
       "      <td>https://twitter.com/DanCrenshawTX/status/13618...</td>\n",
       "      <td>['lost', 'wind', 'power', 'was', 'expected', '...</td>\n",
       "      <td>['this', 'raises', 'the', 'obvious', 'question...</td>\n",
       "    </tr>\n",
       "  </tbody>\n",
       "</table>\n",
       "</div>"
      ],
      "text/plain": [
       "   Unnamed: 0               noteId              tweetId  \\\n",
       "0           1  1355716996760023041  1355643797280083973   \n",
       "1           2  1355989178622816256  1355529775197130753   \n",
       "2           3  1356735932087611399  1352754599590035459   \n",
       "3           4  1356747779113177095  1356441140959064064   \n",
       "4           5  1362165022634504193  1361810447431827459   \n",
       "\n",
       "                      noteClassification  \\\n",
       "0  MISINFORMED_OR_POTENTIALLY_MISLEADING   \n",
       "1  MISINFORMED_OR_POTENTIALLY_MISLEADING   \n",
       "2  MISINFORMED_OR_POTENTIALLY_MISLEADING   \n",
       "3  MISINFORMED_OR_POTENTIALLY_MISLEADING   \n",
       "4  MISINFORMED_OR_POTENTIALLY_MISLEADING   \n",
       "\n",
       "                                            noteText  \\\n",
       "0  blm as an organization is not a terrorist orga...   \n",
       "1  this post claims blm as an organization does n...   \n",
       "2  this claim is false carter ford and nixon also...   \n",
       "3  neither blm nor antifa were involved in the at...   \n",
       "4  lost wind power was expected to be a fraction ...   \n",
       "\n",
       "                                           tweetText  \\\n",
       "0  black lives matter is a racist domestic terror...   \n",
       "1  to remind u what blm did disqualify rt movemen...   \n",
       "2  donald trump is the first president in modern ...   \n",
       "3  go get those antifa bastards and the random an...   \n",
       "4  this raises the obvious question can we ever r...   \n",
       "\n",
       "                                            tweetURL  \\\n",
       "0  https://twitter.com/rjnln02/status/13556437972...   \n",
       "1  https://twitter.com/luscsmoothie/status/135552...   \n",
       "2  https://twitter.com/DonaldJTrumpJr/status/1352...   \n",
       "3  https://twitter.com/FionaRamshackle/status/135...   \n",
       "4  https://twitter.com/DanCrenshawTX/status/13618...   \n",
       "\n",
       "                                        noteTextList  \\\n",
       "0  ['blm', 'as', 'an', 'organization', 'is', 'not...   \n",
       "1  ['this', 'post', 'claims', 'blm', 'as', 'an', ...   \n",
       "2  ['this', 'claim', 'is', 'false', 'carter', 'fo...   \n",
       "3  ['neither', 'blm', 'nor', 'antifa', 'were', 'i...   \n",
       "4  ['lost', 'wind', 'power', 'was', 'expected', '...   \n",
       "\n",
       "                                       tweetTextList  \n",
       "0  ['black', 'lives', 'matter', 'is', 'a', 'racis...  \n",
       "1  ['to', 'remind', 'u', 'what', 'blm', 'did', 'd...  \n",
       "2  ['donald', 'trump', 'is', 'the', 'first', 'pre...  \n",
       "3  ['go', 'get', 'those', 'antifa', 'bastards', '...  \n",
       "4  ['this', 'raises', 'the', 'obvious', 'question...  "
      ]
     },
     "execution_count": 8,
     "metadata": {},
     "output_type": "execute_result"
    }
   ],
   "source": [
    "df.head()"
   ]
  },
  {
   "cell_type": "code",
   "execution_count": null,
   "metadata": {},
   "outputs": [],
   "source": []
  }
 ],
 "metadata": {
  "kernelspec": {
   "display_name": "Python 3",
   "language": "python",
   "name": "python3"
  },
  "language_info": {
   "codemirror_mode": {
    "name": "ipython",
    "version": 3
   },
   "file_extension": ".py",
   "mimetype": "text/x-python",
   "name": "python",
   "nbconvert_exporter": "python",
   "pygments_lexer": "ipython3",
   "version": "3.8.12"
  }
 },
 "nbformat": 4,
 "nbformat_minor": 1
}