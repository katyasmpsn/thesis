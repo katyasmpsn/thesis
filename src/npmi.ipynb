{
 "cells": [
  {
   "cell_type": "code",
   "execution_count": 1,
   "metadata": {
    "pycharm": {
     "is_executing": true
    }
   },
   "outputs": [],
   "source": [
    "import pandas as pd\n",
    "from ast import literal_eval\n",
    "from collections import Counter\n",
    "import numpy as np"
   ]
  },
  {
   "cell_type": "code",
   "execution_count": 2,
   "metadata": {},
   "outputs": [],
   "source": [
    "df = pd.read_csv(\"../results/cleaned_data.csv\")\n",
    "clusters = pd.read_csv(\"../results/clusters_both_100_30_01_27\")"
   ]
  },
  {
   "cell_type": "code",
   "execution_count": 3,
   "metadata": {},
   "outputs": [],
   "source": [
    "window = 10"
   ]
  },
  {
   "cell_type": "code",
   "execution_count": 4,
   "metadata": {},
   "outputs": [],
   "source": [
    "note_list = df.noteTextList.tolist() \n",
    "tweet_list = df.tweetTextList.tolist()\n",
    "\n",
    "note_list = [literal_eval(x) for x in note_list]\n",
    "tweet_list = [literal_eval(x) for x in tweet_list]\n",
    "\n",
    "\n",
    "word_list = note_list + tweet_list"
   ]
  },
  {
   "cell_type": "code",
   "execution_count": 5,
   "metadata": {},
   "outputs": [],
   "source": [
    "def return_neighborhood_cts(word_list, i, window):\n",
    "    # INPUT: a list of tokens, a pointer for the key word, window size\n",
    "    # OUTPUT: a dictionary of counts for the neighborhood of the key word\n",
    "    pre_pane_li = i-window\n",
    "    pre_pane_ri = i\n",
    "    post_pane_li = i+1\n",
    "    post_pane_ri = i+1+window\n",
    "    if pre_pane_li < window  and i < window:\n",
    "        pre_pane_li = 0\n",
    "    if i == len(word_list) - 1:\n",
    "        pre_pane_li = len(word_list) - window - 1\n",
    "    neighborhood = word_list[pre_pane_li:pre_pane_ri] + word_list[post_pane_li:post_pane_ri]\n",
    "    inner_vecs = dict.fromkeys(set(neighborhood), 0)\n",
    "    for word in neighborhood:\n",
    "        inner_vecs[word] = inner_vecs[word] + 1\n",
    "    return inner_vecs\n",
    "\n",
    "master_class = {}\n",
    "total_ct = 0\n",
    "for l in word_list:\n",
    "    word_list = l\n",
    "    outer_vec = {}\n",
    "    for i in range(len(word_list)): # Looping thru all words\n",
    "        tmp = return_neighborhood_cts(word_list, i, window) # returning neighborhood counts for a key word\n",
    "        if (word_list[i] in outer_vec.keys()): # if a key word already has a dict entry, add to it\n",
    "            for k, v in tmp.items():\n",
    "                total_ct += v\n",
    "                try:\n",
    "                    outer_vec[word_list[i]][k] = outer_vec[word_list[i]][k] + v\n",
    "                except:\n",
    "                    outer_vec[word_list[i]][k] = v\n",
    "        else: # if a key word does not have a dict entry, create it\n",
    "            outer_vec[word_list[i]] = tmp\n",
    "            total_ct += sum(tmp.values())\n",
    "            \n",
    "    # updating the master dict over many documents\n",
    "    for k,v in outer_vec.items():\n",
    "        try:\n",
    "            master_class[k] = Counter(master_class[k]) + Counter(outer_vec[k])\n",
    "        except:\n",
    "            master_class[k] = outer_vec[k]\n",
    "\n",
    "\n",
    "# make every dict in the master dictionary a counter object such that when a co-occurence doesn't occur, the joint \n",
    "# probability == 0 \n",
    "\n",
    "master_class = {key: Counter(value) for key, value in master_class.items()}"
   ]
  },
  {
   "cell_type": "code",
   "execution_count": 6,
   "metadata": {},
   "outputs": [],
   "source": [
    "def npmi(w1, w2, vectors, vector_ct):\n",
    "    # INPUT two words to compare, dict of vectors, total word count for denom\n",
    "    # OUTPUT ppmi for those two words\n",
    "    eps = 10**(-12)\n",
    "    # numerator\n",
    "    w1w2_dc = vectors[w1][w2] / vector_ct\n",
    "    w1_dc = sum(vectors[w1].values()) / vector_ct\n",
    "    w2_dc = sum(vectors[w2].values()) / vector_ct\n",
    "    \n",
    "    pmi_w1w2 = np.log((w1w2_dc) / ((w1_dc * w2_dc) + eps) + eps)\n",
    "    npmi_w1w2 = pmi_w1w2 / (- np.log( (w1w2_dc) + eps))\n",
    "    \n",
    "    return npmi_w1w2"
   ]
  },
  {
   "cell_type": "code",
   "execution_count": 7,
   "metadata": {},
   "outputs": [
    {
     "data": {
      "text/plain": [
       "6043395"
      ]
     },
     "execution_count": 7,
     "metadata": {},
     "output_type": "execute_result"
    }
   ],
   "source": [
    "total_ct"
   ]
  },
  {
   "cell_type": "code",
   "execution_count": 8,
   "metadata": {},
   "outputs": [],
   "source": [
    "clusters = clusters.groupby(['Cluster']).agg({\"Word_Type\": list})"
   ]
  },
  {
   "cell_type": "code",
   "execution_count": 9,
   "metadata": {},
   "outputs": [
    {
     "ename": "NameError",
     "evalue": "name 'test' is not defined",
     "output_type": "error",
     "traceback": [
      "\u001b[0;31m---------------------------------------------------------------------------\u001b[0m",
      "\u001b[0;31mNameError\u001b[0m                                 Traceback (most recent call last)",
      "\u001b[0;32m<ipython-input-9-4e1243bd22c6>\u001b[0m in \u001b[0;36m<module>\u001b[0;34m\u001b[0m\n\u001b[0;32m----> 1\u001b[0;31m \u001b[0mtest\u001b[0m\u001b[0;34m\u001b[0m\u001b[0;34m\u001b[0m\u001b[0m\n\u001b[0m",
      "\u001b[0;31mNameError\u001b[0m: name 'test' is not defined"
     ]
    }
   ],
   "source": [
    "test"
   ]
  },
  {
   "cell_type": "code",
   "execution_count": 45,
   "metadata": {},
   "outputs": [],
   "source": [
    "cluster_ids = len(clusters)\n",
    "\n",
    "\n",
    "avg_npmis = []\n",
    "for i in range(cluster_ids):\n",
    "    test = clusters.iloc[i]['Word_Type']\n",
    "\n",
    "    npmi_scores = {}\n",
    "    for w1 in test:\n",
    "        npmi_sum = 0\n",
    "        ct = 0\n",
    "        for w2 in test:\n",
    "            if w1 != w2:\n",
    "                res = npmi(w1, w2, master_class, total_ct)\n",
    "    #             print(w1, w2, res)\n",
    "                npmi_sum += res\n",
    "                ct += 1\n",
    "            else:\n",
    "                pass\n",
    "        npmi_scores[w1] = npmi_sum/ct\n",
    "    \n",
    "    res = 0\n",
    "    for val in npmi_scores.values():\n",
    "        res += val\n",
    "  \n",
    "    # using len() to get total keys for mean computation\n",
    "    res = res / len(npmi_scores)\n",
    "    \n",
    "    final = (i,res)\n",
    "    avg_npmis.append(np.around((final),5))\n",
    "            \n",
    "    "
   ]
  },
  {
   "cell_type": "code",
   "execution_count": 46,
   "metadata": {},
   "outputs": [
    {
     "data": {
      "text/plain": [
       "Word_Type    [putins, trumps, president, vladimir, obamas, ...\n",
       "Name: 5, dtype: object"
      ]
     },
     "execution_count": 46,
     "metadata": {},
     "output_type": "execute_result"
    }
   ],
   "source": [
    "clusters.iloc[5]"
   ]
  },
  {
   "cell_type": "code",
   "execution_count": 47,
   "metadata": {},
   "outputs": [
    {
     "data": {
      "text/plain": [
       "[array([ 0.     , -0.73852]),\n",
       " array([ 1.     , -0.94877]),\n",
       " array([ 2.     , -0.35078]),\n",
       " array([ 3. , -0.5]),\n",
       " array([ 4.     , -0.10452]),\n",
       " array([ 5.     , -0.65276]),\n",
       " array([ 6.     , -0.57188]),\n",
       " array([ 7.     , -0.43032]),\n",
       " array([ 8.     , -0.80552]),\n",
       " array([ 9.     , -0.43341]),\n",
       " array([10.     , -0.57092]),\n",
       " array([11.     , -0.97453]),\n",
       " array([12.     , -0.51724]),\n",
       " array([13.     , -0.92967]),\n",
       " array([14.     , -0.70535]),\n",
       " array([15.     , -0.78769]),\n",
       " array([16.     , -0.90966]),\n",
       " array([17.     , -0.59134]),\n",
       " array([18., -1.]),\n",
       " array([19.     , -0.97282]),\n",
       " array([20.     , -0.78646]),\n",
       " array([21.     , -0.94342]),\n",
       " array([22.     , -0.87268]),\n",
       " array([23.     , -0.77553]),\n",
       " array([24.     , -0.91903]),\n",
       " array([25.     , -0.58053]),\n",
       " array([26.    , -0.5171]),\n",
       " array([27.     , -0.56065]),\n",
       " array([28.     , -0.39145]),\n",
       " array([29.     , -0.33827])]"
      ]
     },
     "execution_count": 47,
     "metadata": {},
     "output_type": "execute_result"
    }
   ],
   "source": [
    "avg_npmis"
   ]
  },
  {
   "cell_type": "code",
   "execution_count": 42,
   "metadata": {},
   "outputs": [
    {
     "data": {
      "text/plain": [
       "[(0, -0.7385150042359989),\n",
       " (1, -0.9487718674723971),\n",
       " (2, -0.35077506603635433),\n",
       " (3, -0.5000042280502419),\n",
       " (4, -0.10451733598865762),\n",
       " (5, -0.6527563809317293),\n",
       " (6, -0.5718801579821878),\n",
       " (7, -0.43031819889632034),\n",
       " (8, -0.8055181263825594),\n",
       " (9, -0.43340793357870144),\n",
       " (10, -0.5709188743264241),\n",
       " (11, -0.9745342376829866),\n",
       " (12, -0.5172387797914599),\n",
       " (13, -0.9296743026580033),\n",
       " (14, -0.7053537562822005),\n",
       " (15, -0.7876921353192519),\n",
       " (16, -0.9096572926519337),\n",
       " (17, -0.5913430852915638),\n",
       " (18, -1.0),\n",
       " (19, -0.9728153669669759),\n",
       " (20, -0.7864610390665889),\n",
       " (21, -0.9434224785973466),\n",
       " (22, -0.8726777904460292),\n",
       " (23, -0.7755253079831277),\n",
       " (24, -0.9190288360473906),\n",
       " (25, -0.5805277855677268),\n",
       " (26, -0.5170993632431421),\n",
       " (27, -0.5606471900258804),\n",
       " (28, -0.3914496345441007),\n",
       " (29, -0.3382671576512696)]"
      ]
     },
     "execution_count": 42,
     "metadata": {},
     "output_type": "execute_result"
    }
   ],
   "source": [
    "avg_npmis"
   ]
  },
  {
   "cell_type": "code",
   "execution_count": 38,
   "metadata": {},
   "outputs": [],
   "source": []
  },
  {
   "cell_type": "code",
   "execution_count": null,
   "metadata": {},
   "outputs": [],
   "source": []
  }
 ],
 "metadata": {
  "kernelspec": {
   "display_name": "Python 3",
   "language": "python",
   "name": "python3"
  },
  "language_info": {
   "codemirror_mode": {
    "name": "ipython",
    "version": 3
   },
   "file_extension": ".py",
   "mimetype": "text/x-python",
   "name": "python",
   "nbconvert_exporter": "python",
   "pygments_lexer": "ipython3",
   "version": "3.8.12"
  }
 },
 "nbformat": 4,
 "nbformat_minor": 1
}
