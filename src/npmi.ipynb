{
 "cells": [
  {
   "cell_type": "code",
   "execution_count": 3,
   "metadata": {},
   "outputs": [],
   "source": [
    "import pandas as pd\n",
    "from ast import literal_eval\n",
    "from collections import Counter\n",
    "import numpy as np\n"
   ]
  },
  {
   "cell_type": "code",
   "execution_count": null,
   "metadata": {},
   "outputs": [],
   "source": []
  },
  {
   "cell_type": "code",
   "execution_count": 4,
   "metadata": {},
   "outputs": [],
   "source": [
    "df = pd.read_csv(\"../results/test.csv\") # reading in the test data to create a word-word freq matrix \n",
    "clusters = pd.read_csv(\"../results/all_runs.csv\") # reading in the top words for each cluster (with hyperparameter variations)"
   ]
  },
  {
   "cell_type": "code",
   "execution_count": 7,
   "metadata": {},
   "outputs": [
    {
     "data": {
      "text/plain": [
       "numCluster  dimensions\n",
       "20          100            335\n",
       "            300            361\n",
       "            500            341\n",
       "            768            331\n",
       "50          100            870\n",
       "            300            833\n",
       "            500            845\n",
       "            768            846\n",
       "100         100           1735\n",
       "            300           1677\n",
       "            500           1656\n",
       "            768           1667\n",
       "Name: Word_Type, dtype: int64"
      ]
     },
     "execution_count": 7,
     "metadata": {},
     "output_type": "execute_result"
    }
   ],
   "source": [
    "clusters.groupby(['numCluster', 'dimensions'])['Word_Type'].nunique()"
   ]
  },
  {
   "cell_type": "code",
   "execution_count": 8,
   "metadata": {},
   "outputs": [
    {
     "data": {
      "text/html": [
       "<div>\n",
       "<style scoped>\n",
       "    .dataframe tbody tr th:only-of-type {\n",
       "        vertical-align: middle;\n",
       "    }\n",
       "\n",
       "    .dataframe tbody tr th {\n",
       "        vertical-align: top;\n",
       "    }\n",
       "\n",
       "    .dataframe thead th {\n",
       "        text-align: right;\n",
       "    }\n",
       "</style>\n",
       "<table border=\"1\" class=\"dataframe\">\n",
       "  <thead>\n",
       "    <tr style=\"text-align: right;\">\n",
       "      <th></th>\n",
       "      <th>Unnamed: 0</th>\n",
       "      <th>Cluster</th>\n",
       "      <th>Word_Type</th>\n",
       "      <th>Weights</th>\n",
       "      <th>SqDist</th>\n",
       "      <th>numCluster</th>\n",
       "      <th>dimensions</th>\n",
       "      <th>seed</th>\n",
       "      <th>silhouette_score</th>\n",
       "    </tr>\n",
       "  </thead>\n",
       "  <tbody>\n",
       "    <tr>\n",
       "      <th>0</th>\n",
       "      <td>0</td>\n",
       "      <td>0</td>\n",
       "      <td>anyones</td>\n",
       "      <td>0.000018</td>\n",
       "      <td>1031.16</td>\n",
       "      <td>20</td>\n",
       "      <td>100</td>\n",
       "      <td>372</td>\n",
       "      <td>0.035141</td>\n",
       "    </tr>\n",
       "    <tr>\n",
       "      <th>1</th>\n",
       "      <td>1</td>\n",
       "      <td>0</td>\n",
       "      <td>someones</td>\n",
       "      <td>0.000027</td>\n",
       "      <td>1095.53</td>\n",
       "      <td>20</td>\n",
       "      <td>100</td>\n",
       "      <td>372</td>\n",
       "      <td>0.035141</td>\n",
       "    </tr>\n",
       "    <tr>\n",
       "      <th>2</th>\n",
       "      <td>2</td>\n",
       "      <td>0</td>\n",
       "      <td>pres</td>\n",
       "      <td>0.000044</td>\n",
       "      <td>1099.91</td>\n",
       "      <td>20</td>\n",
       "      <td>100</td>\n",
       "      <td>372</td>\n",
       "      <td>0.035141</td>\n",
       "    </tr>\n",
       "    <tr>\n",
       "      <th>3</th>\n",
       "      <td>3</td>\n",
       "      <td>0</td>\n",
       "      <td>qs</td>\n",
       "      <td>0.000012</td>\n",
       "      <td>1129.63</td>\n",
       "      <td>20</td>\n",
       "      <td>100</td>\n",
       "      <td>372</td>\n",
       "      <td>0.035141</td>\n",
       "    </tr>\n",
       "    <tr>\n",
       "      <th>4</th>\n",
       "      <td>4</td>\n",
       "      <td>0</td>\n",
       "      <td>arent</td>\n",
       "      <td>0.000186</td>\n",
       "      <td>1133.64</td>\n",
       "      <td>20</td>\n",
       "      <td>100</td>\n",
       "      <td>372</td>\n",
       "      <td>0.035141</td>\n",
       "    </tr>\n",
       "  </tbody>\n",
       "</table>\n",
       "</div>"
      ],
      "text/plain": [
       "   Unnamed: 0  Cluster Word_Type   Weights   SqDist  numCluster  dimensions  \\\n",
       "0           0        0   anyones  0.000018  1031.16          20         100   \n",
       "1           1        0  someones  0.000027  1095.53          20         100   \n",
       "2           2        0      pres  0.000044  1099.91          20         100   \n",
       "3           3        0        qs  0.000012  1129.63          20         100   \n",
       "4           4        0     arent  0.000186  1133.64          20         100   \n",
       "\n",
       "   seed  silhouette_score  \n",
       "0   372          0.035141  \n",
       "1   372          0.035141  \n",
       "2   372          0.035141  \n",
       "3   372          0.035141  \n",
       "4   372          0.035141  "
      ]
     },
     "execution_count": 8,
     "metadata": {},
     "output_type": "execute_result"
    }
   ],
   "source": [
    "clusters.head()"
   ]
  },
  {
   "cell_type": "code",
   "execution_count": null,
   "metadata": {},
   "outputs": [],
   "source": [
    "cluster avg distance = for cluster 0 with hyperparameters A,B; it will be the mean sqdist "
   ]
  },
  {
   "cell_type": "code",
   "execution_count": 15,
   "metadata": {},
   "outputs": [],
   "source": [
    "temp = clusters.groupby(['numCluster','dimensions','seed','Cluster'])['SqDist'].mean().reset_index()"
   ]
  },
  {
   "cell_type": "code",
   "execution_count": 23,
   "metadata": {},
   "outputs": [
    {
     "data": {
      "text/html": [
       "<div>\n",
       "<style scoped>\n",
       "    .dataframe tbody tr th:only-of-type {\n",
       "        vertical-align: middle;\n",
       "    }\n",
       "\n",
       "    .dataframe tbody tr th {\n",
       "        vertical-align: top;\n",
       "    }\n",
       "\n",
       "    .dataframe thead th {\n",
       "        text-align: right;\n",
       "    }\n",
       "</style>\n",
       "<table border=\"1\" class=\"dataframe\">\n",
       "  <thead>\n",
       "    <tr style=\"text-align: right;\">\n",
       "      <th></th>\n",
       "      <th>numCluster</th>\n",
       "      <th>dimensions</th>\n",
       "      <th>seed</th>\n",
       "      <th>Cluster</th>\n",
       "      <th>SqDist</th>\n",
       "    </tr>\n",
       "  </thead>\n",
       "  <tbody>\n",
       "    <tr>\n",
       "      <th>840</th>\n",
       "      <td>100</td>\n",
       "      <td>100</td>\n",
       "      <td>372</td>\n",
       "      <td>0</td>\n",
       "      <td>6237.336</td>\n",
       "    </tr>\n",
       "    <tr>\n",
       "      <th>841</th>\n",
       "      <td>100</td>\n",
       "      <td>100</td>\n",
       "      <td>372</td>\n",
       "      <td>1</td>\n",
       "      <td>7725.038</td>\n",
       "    </tr>\n",
       "    <tr>\n",
       "      <th>842</th>\n",
       "      <td>100</td>\n",
       "      <td>100</td>\n",
       "      <td>372</td>\n",
       "      <td>2</td>\n",
       "      <td>4963.834</td>\n",
       "    </tr>\n",
       "    <tr>\n",
       "      <th>843</th>\n",
       "      <td>100</td>\n",
       "      <td>100</td>\n",
       "      <td>372</td>\n",
       "      <td>3</td>\n",
       "      <td>5704.909</td>\n",
       "    </tr>\n",
       "    <tr>\n",
       "      <th>844</th>\n",
       "      <td>100</td>\n",
       "      <td>100</td>\n",
       "      <td>372</td>\n",
       "      <td>4</td>\n",
       "      <td>7106.032</td>\n",
       "    </tr>\n",
       "    <tr>\n",
       "      <th>...</th>\n",
       "      <td>...</td>\n",
       "      <td>...</td>\n",
       "      <td>...</td>\n",
       "      <td>...</td>\n",
       "      <td>...</td>\n",
       "    </tr>\n",
       "    <tr>\n",
       "      <th>935</th>\n",
       "      <td>100</td>\n",
       "      <td>100</td>\n",
       "      <td>372</td>\n",
       "      <td>95</td>\n",
       "      <td>7415.378</td>\n",
       "    </tr>\n",
       "    <tr>\n",
       "      <th>936</th>\n",
       "      <td>100</td>\n",
       "      <td>100</td>\n",
       "      <td>372</td>\n",
       "      <td>96</td>\n",
       "      <td>6040.071</td>\n",
       "    </tr>\n",
       "    <tr>\n",
       "      <th>937</th>\n",
       "      <td>100</td>\n",
       "      <td>100</td>\n",
       "      <td>372</td>\n",
       "      <td>97</td>\n",
       "      <td>5295.390</td>\n",
       "    </tr>\n",
       "    <tr>\n",
       "      <th>938</th>\n",
       "      <td>100</td>\n",
       "      <td>100</td>\n",
       "      <td>372</td>\n",
       "      <td>98</td>\n",
       "      <td>7408.894</td>\n",
       "    </tr>\n",
       "    <tr>\n",
       "      <th>939</th>\n",
       "      <td>100</td>\n",
       "      <td>100</td>\n",
       "      <td>372</td>\n",
       "      <td>99</td>\n",
       "      <td>7436.526</td>\n",
       "    </tr>\n",
       "  </tbody>\n",
       "</table>\n",
       "<p>100 rows × 5 columns</p>\n",
       "</div>"
      ],
      "text/plain": [
       "     numCluster  dimensions  seed  Cluster    SqDist\n",
       "840         100         100   372        0  6237.336\n",
       "841         100         100   372        1  7725.038\n",
       "842         100         100   372        2  4963.834\n",
       "843         100         100   372        3  5704.909\n",
       "844         100         100   372        4  7106.032\n",
       "..          ...         ...   ...      ...       ...\n",
       "935         100         100   372       95  7415.378\n",
       "936         100         100   372       96  6040.071\n",
       "937         100         100   372       97  5295.390\n",
       "938         100         100   372       98  7408.894\n",
       "939         100         100   372       99  7436.526\n",
       "\n",
       "[100 rows x 5 columns]"
      ]
     },
     "execution_count": 23,
     "metadata": {},
     "output_type": "execute_result"
    }
   ],
   "source": [
    "temp[(temp['dimensions'] == 100) & (temp['seed'] == 372) & (temp['numCluster'] == 100)]"
   ]
  },
  {
   "cell_type": "code",
   "execution_count": null,
   "metadata": {},
   "outputs": [],
   "source": []
  },
  {
   "cell_type": "code",
   "execution_count": 4,
   "metadata": {},
   "outputs": [],
   "source": [
    "df['noteLength'] = df['noteText'].str.split().str.len()\n",
    "df['tweetLength'] = df['tweetText'].str.split().str.len()"
   ]
  },
  {
   "cell_type": "code",
   "execution_count": 28,
   "metadata": {
    "scrolled": true
   },
   "outputs": [
    {
     "data": {
      "text/plain": [
       "14.0"
      ]
     },
     "execution_count": 28,
     "metadata": {},
     "output_type": "execute_result"
    }
   ],
   "source": [
    "# TODO: make this into a log \n",
    "df['tweetLength'].quantile(0.25)"
   ]
  },
  {
   "cell_type": "code",
   "execution_count": 9,
   "metadata": {},
   "outputs": [],
   "source": [
    "window = 14\n",
    "# the window should be longer for semantics. The first quartile of note length is 14 words, for both tweets and notes, \n",
    "# so I'll go with that "
   ]
  },
  {
   "cell_type": "code",
   "execution_count": 13,
   "metadata": {},
   "outputs": [],
   "source": [
    "\n",
    "# combining note and tweet text into a single list \n",
    "\n",
    "note_list = df.noteTextList.tolist() \n",
    "tweet_list = df.tweetTextList.tolist()\n",
    "\n",
    "note_list = [literal_eval(x) for x in note_list]\n",
    "tweet_list = [literal_eval(x) for x in tweet_list]\n",
    "\n",
    "\n",
    "word_list = note_list + tweet_list\n",
    "flat_word_list = [item for sublist in word_list for item in sublist]"
   ]
  },
  {
   "cell_type": "code",
   "execution_count": null,
   "metadata": {},
   "outputs": [],
   "source": []
  },
  {
   "cell_type": "code",
   "execution_count": 14,
   "metadata": {},
   "outputs": [],
   "source": [
    "# need a preprocessing step where if a word in the clusters isn't found in the test dataset, it's omitted \n",
    "# because that word would have no frequency statistics associated with it \n",
    "clusters['Test_Train_Match'] = np.where(clusters['Word_Type'].isin(flat_word_list), 1, 0)\n",
    "\n"
   ]
  },
  {
   "cell_type": "code",
   "execution_count": 15,
   "metadata": {},
   "outputs": [
    {
     "data": {
      "text/plain": [
       "1    18782\n",
       "0     1081\n",
       "Name: Test_Train_Match, dtype: int64"
      ]
     },
     "execution_count": 15,
     "metadata": {},
     "output_type": "execute_result"
    }
   ],
   "source": [
    "# TODO: log this!! omitting about 1081 words by my count \n",
    "clusters['Test_Train_Match'].value_counts()"
   ]
  },
  {
   "cell_type": "code",
   "execution_count": 16,
   "metadata": {},
   "outputs": [],
   "source": [
    "# just going to omit them because idk \n",
    "clusters = clusters[clusters['Test_Train_Match'] == 1]"
   ]
  },
  {
   "cell_type": "code",
   "execution_count": null,
   "metadata": {},
   "outputs": [],
   "source": [
    "def return_neighborhood_cts(word_list, i, window):\n",
    "    \"\"\"\n",
    "    Helper function to calculate NPMI statistics for the given window\n",
    "    INPUT: a list of tokens, a pointer for the key word, window size\n",
    "    OUTPUT: a dictionary of counts for the neighborhood of the key word\n",
    "    \"\"\"\n",
    "    pre_pane_li = i-window\n",
    "    pre_pane_ri = i\n",
    "    post_pane_li = i+1\n",
    "    post_pane_ri = i+1+window\n",
    "    if pre_pane_li < window  and i < window:\n",
    "        pre_pane_li = 0\n",
    "    if i == len(word_list) - 1:\n",
    "        pre_pane_li = len(word_list) - window - 1\n",
    "    neighborhood = word_list[pre_pane_li:pre_pane_ri] + word_list[post_pane_li:post_pane_ri]\n",
    "    inner_vecs = dict.fromkeys(set(neighborhood), 0)\n",
    "    for word in neighborhood:\n",
    "        inner_vecs[word] = inner_vecs[word] + 1\n",
    "    return inner_vecs\n",
    "\n",
    "\n",
    "def mainPMIStats(master_class, word_list)\n",
    "master_class = {}\n",
    "total_ct = 0\n",
    "for l in word_list:\n",
    "    word_list = l\n",
    "    outer_vec = {}\n",
    "    for i in range(len(word_list)): # Looping thru all words\n",
    "        tmp = return_neighborhood_cts(word_list, i, window) # returning neighborhood counts for a key word\n",
    "        if (word_list[i] in outer_vec.keys()): # if a key word already has a dict entry, add to it\n",
    "            for k, v in tmp.items():\n",
    "                total_ct += v\n",
    "                try:\n",
    "                    outer_vec[word_list[i]][k] = outer_vec[word_list[i]][k] + v\n",
    "                except:\n",
    "                    outer_vec[word_list[i]][k] = v\n",
    "        else: # if a key word does not have a dict entry, create it\n",
    "            outer_vec[word_list[i]] = tmp\n",
    "            total_ct += sum(tmp.values())\n",
    "            \n",
    "    # updating the master dict over many documents\n",
    "    for k,v in outer_vec.items():\n",
    "        try:\n",
    "            master_class[k] = Counter(master_class[k]) + Counter(outer_vec[k])\n",
    "        except:\n",
    "            master_class[k] = outer_vec[k]\n",
    "    \n",
    "\n",
    "# make every dict in the master dictionary a counter object such that when a co-occurence doesn't occur, the joint \n",
    "# probability == 0 \n",
    "\n",
    "master_class = {key: Counter(value) for key, value in master_class.items()}"
   ]
  },
  {
   "cell_type": "code",
   "execution_count": null,
   "metadata": {},
   "outputs": [],
   "source": [
    "master_class"
   ]
  },
  {
   "cell_type": "code",
   "execution_count": null,
   "metadata": {},
   "outputs": [],
   "source": [
    "def npmi(w1, w2, vectors, vector_ct):\n",
    "    # INPUT two words to compare, dict of vectors, total word count for denom\n",
    "    # OUTPUT ppmi for those two words\n",
    "    eps = 10**(-12)\n",
    "    # numerator\n",
    "    w1w2_dc = vectors[w1][w2] / vector_ct\n",
    "    w1_dc = sum(vectors[w1].values()) / vector_ct\n",
    "    w2_dc = sum(vectors[w2].values()) / vector_ct\n",
    "    \n",
    "    pmi_w1w2 = np.log((w1w2_dc) / ((w1_dc * w2_dc) + eps) + eps)\n",
    "    npmi_w1w2 = pmi_w1w2 / (- np.log( (w1w2_dc) + eps))\n",
    "    return npmi_w1w2"
   ]
  },
  {
   "cell_type": "code",
   "execution_count": null,
   "metadata": {},
   "outputs": [],
   "source": [
    "def avgClusterNPMI(cluster_words, stats):\n",
    "    \"\"\"\n",
    "    Input: List of words in a cluster\n",
    "    Output: Average NPMI for the cluster \n",
    "    wtf is happening? It is averaged twice: NPMI is calculated for each w1, w2; so an average of all the pairs is taken\n",
    "    And, an average of all of the words is taken in the cluster.\n",
    "    It looks like Lau et al sums the NPMIs but that would result in NPMIs that aren't really interpretable (not\n",
    "    within the [-1,1] range)\n",
    "    \"\"\"\n",
    "\n",
    "    npmi_scores = {}\n",
    "    for w1 in cluster_words:\n",
    "        npmi_sum = 0\n",
    "        ct = 0\n",
    "        for w2 in cluster_words:\n",
    "            if w1 != w2:\n",
    "                res = npmi(w1, w2, stats, total_ct)\n",
    "#                 print(w1,w2,res)\n",
    "#                 print(w1, w2, res)\n",
    "                \n",
    "                npmi_sum += res\n",
    "                ct += 1\n",
    "                \n",
    "            else:\n",
    "                pass\n",
    "        # taking the average of every w1 against every other w2\n",
    "        npmi_scores[w1] = npmi_sum/ct\n",
    "       \n",
    "    \n",
    "    res = 0\n",
    "    for val in npmi_scores.values():\n",
    "        \n",
    "        res += val\n",
    "        \n",
    "  \n",
    "    # using len() to get total keys for mean computation\n",
    "    # averaging all words in a cluster \n",
    "\n",
    "    res = res / len(npmi_scores)\n",
    "\n",
    "    \n",
    "    return (res, npmi_scores)4       "
   ]
  },
  {
   "cell_type": "code",
   "execution_count": null,
   "metadata": {},
   "outputs": [],
   "source": [
    "avgClusterNPMI([\"biden\", \"putin\", \"russia\", \"usa\"], master_class)"
   ]
  },
  {
   "cell_type": "code",
   "execution_count": null,
   "metadata": {},
   "outputs": [],
   "source": [
    "temp = clusters[(clusters['Cluster'] == 0 ) &(clusters['numCluster'] == 20 ) & (clusters['dimensions'] == 100)\n",
    "        & (clusters['seed'] == 932)]\n"
   ]
  },
  {
   "cell_type": "code",
   "execution_count": null,
   "metadata": {},
   "outputs": [],
   "source": [
    "lst = temp.Word_Type.tolist()"
   ]
  },
  {
   "cell_type": "code",
   "execution_count": null,
   "metadata": {},
   "outputs": [],
   "source": [
    "avgClusterNPMI(lst, master_class)"
   ]
  },
  {
   "cell_type": "code",
   "execution_count": null,
   "metadata": {},
   "outputs": [],
   "source": [
    "df = clusters.groupby(['numCluster', 'dimensions', 'seed'])"
   ]
  },
  {
   "cell_type": "code",
   "execution_count": null,
   "metadata": {},
   "outputs": [],
   "source": [
    "run_data = []\n",
    "omitted_clusters = []\n",
    "for key, item in df:\n",
    "    print(key)\n",
    "    # iterating through each dataframe of results for each set of hyperparamaters \n",
    "    cluster_ids = item.Cluster.unique().tolist()\n",
    "    cluster_scores = 0\n",
    "    for cluster_id in cluster_ids:\n",
    "#         print(cluster_id)\n",
    "        temp_df = item[item['Cluster'] == cluster_id]\n",
    "        word_list = temp_df.Word_Type.tolist() \n",
    "        if len(word_list) != 1:\n",
    "            score = avgClusterNPMI(word_list, master_class)\n",
    "            cluster_scores += score\n",
    "        else:\n",
    "            omitted_clusters.append((key,cluster_id))\n",
    "            # some clusters might only have one word. They're omitted from the analysis\n",
    "            continue\n",
    "    run_score = cluster_scores/len(cluster_ids)\n",
    "    run_data.append([key[0], key[1], key[2], run_score])\n",
    "    "
   ]
  },
  {
   "cell_type": "code",
   "execution_count": null,
   "metadata": {},
   "outputs": [],
   "source": [
    "run_data"
   ]
  },
  {
   "cell_type": "code",
   "execution_count": null,
   "metadata": {},
   "outputs": [],
   "source": [
    "results = pd.DataFrame(run_data, columns=['NClusters', 'NDims', 'RandomSeed', \"Score\"])"
   ]
  },
  {
   "cell_type": "code",
   "execution_count": null,
   "metadata": {},
   "outputs": [],
   "source": [
    "pd.DataFrame(results.groupby(['NClusters','NDims'])['Score'].mean()).reset_index()"
   ]
  },
  {
   "cell_type": "code",
   "execution_count": null,
   "metadata": {},
   "outputs": [],
   "source": [
    "total_ct"
   ]
  },
  {
   "cell_type": "code",
   "execution_count": null,
   "metadata": {},
   "outputs": [],
   "source": [
    "clusters = clusters.groupby(['Cluster']).agg({\"Word_Type\": list})"
   ]
  },
  {
   "cell_type": "code",
   "execution_count": null,
   "metadata": {},
   "outputs": [],
   "source": [
    "test"
   ]
  },
  {
   "cell_type": "code",
   "execution_count": null,
   "metadata": {},
   "outputs": [],
   "source": [
    "cluster_ids = len(clusters)\n",
    "\n",
    "\n",
    "avg_npmis = []\n",
    "for i in range(cluster_ids):\n",
    "    cluster_words = clusters.iloc[i]['Word_Type']\n",
    "\n",
    "    # this portion calculates the average average NPMI over a cluster \n",
    "    npmi_scores = {}\n",
    "    for w1 in cluster_words:\n",
    "        npmi_sum = 0\n",
    "        ct = 0\n",
    "        for w2 in cluster_words:\n",
    "            if w1 != w2:\n",
    "                res = npmi(w1, w2, master_class, total_ct)\n",
    "    #             print(w1, w2, res)\n",
    "                npmi_sum += res\n",
    "                ct += 1\n",
    "            else:\n",
    "                pass\n",
    "        # taking the average of every w1 against every other w2\n",
    "        try:\n",
    "            npmi_scores[w1] = npmi_sum/ct\n",
    "        except:\n",
    "            \n",
    "    \n",
    "    res = 0\n",
    "    for val in npmi_scores.values():\n",
    "        res += val\n",
    "  \n",
    "    # using len() to get total keys for mean computation\n",
    "    # averaging all words in a cluster \n",
    "    res = res / len(npmi_scores)\n",
    "    \n",
    "    final = (i,res)\n",
    "    avg_npmis.append(np.around((final),5))\n",
    "            \n",
    "    "
   ]
  },
  {
   "cell_type": "code",
   "execution_count": null,
   "metadata": {},
   "outputs": [],
   "source": [
    "clusters.iloc[5]"
   ]
  },
  {
   "cell_type": "code",
   "execution_count": null,
   "metadata": {},
   "outputs": [],
   "source": [
    "avg_npmis"
   ]
  },
  {
   "cell_type": "code",
   "execution_count": null,
   "metadata": {},
   "outputs": [],
   "source": [
    "avg_npmis"
   ]
  }
 ],
 "metadata": {
  "kernelspec": {
   "display_name": "Python 3",
   "language": "python",
   "name": "python3"
  },
  "language_info": {
   "codemirror_mode": {
    "name": "ipython",
    "version": 3
   },
   "file_extension": ".py",
   "mimetype": "text/x-python",
   "name": "python",
   "nbconvert_exporter": "python",
   "pygments_lexer": "ipython3",
   "version": "3.8.12"
  }
 },
 "nbformat": 4,
 "nbformat_minor": 1
}
